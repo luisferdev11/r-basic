{
 "cells": [
  {
   "cell_type": "code",
   "execution_count": 13,
   "id": "contemporary-drawing",
   "metadata": {},
   "outputs": [
    {
     "name": "stdout",
     "output_type": "stream",
     "text": [
      "Escribe un número: 57457\n",
      "Tu número es positivo\n"
     ]
    }
   ],
   "source": [
    "def validplus ():\n",
    "    x = float(input(\"Escribe un número: \"))\n",
    "    if x >= 0:\n",
    "        print(\"Tu número es positivo\")\n",
    "    else:\n",
    "        print(\"Tu número no pertenece a los números positvos\")\n",
    "validplus()"
   ]
  },
  {
   "cell_type": "code",
   "execution_count": 18,
   "id": "veterinary-folder",
   "metadata": {},
   "outputs": [
    {
     "name": "stdout",
     "output_type": "stream",
     "text": [
      "Escribe un número: 6\n",
      "Tu número no está dentro del rango\n"
     ]
    }
   ],
   "source": [
    "def validFive ():\n",
    "    x = float(input(\"Escribe un número: \"))\n",
    "    if x >= -5 and x <= 5:\n",
    "        print(\"Tu está dentro del rango\")\n",
    "    else:\n",
    "        print(\"Tu número no está dentro del rango\")\n",
    "validFive()"
   ]
  },
  {
   "cell_type": "code",
   "execution_count": null,
   "id": "collaborative-cherry",
   "metadata": {},
   "outputs": [],
   "source": []
  }
 ],
 "metadata": {
  "kernelspec": {
   "display_name": "Python 3",
   "language": "python",
   "name": "python3"
  },
  "language_info": {
   "codemirror_mode": {
    "name": "ipython",
    "version": 3
   },
   "file_extension": ".py",
   "mimetype": "text/x-python",
   "name": "python",
   "nbconvert_exporter": "python",
   "pygments_lexer": "ipython3",
   "version": "3.7.9"
  }
 },
 "nbformat": 4,
 "nbformat_minor": 5
}
