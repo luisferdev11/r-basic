{
 "cells": [
  {
   "cell_type": "code",
   "execution_count": 9,
   "metadata": {},
   "outputs": [],
   "source": [
    "import math"
   ]
  },
  {
   "cell_type": "code",
   "execution_count": 1,
   "metadata": {},
   "outputs": [
    {
     "name": "stdout",
     "output_type": "stream",
     "text": [
      "Escribe un número: 5\n",
      "Tu número es positivo\n"
     ]
    }
   ],
   "source": [
    "def validplus ():\n",
    "    x = float(input(\"Escribe un número: \"))\n",
    "    if x > 0:\n",
    "        print(\"Tu número es positivo\")\n",
    "    else:\n",
    "        print(\"Tu número no pertenece a los números positvos\")\n",
    "validplus()"
   ]
  },
  {
   "cell_type": "code",
   "execution_count": 74,
   "metadata": {},
   "outputs": [
    {
     "name": "stdout",
     "output_type": "stream",
     "text": [
      "Escribe un número: 4.9999999999\n",
      "Tu número está dentro del rango\n"
     ]
    }
   ],
   "source": [
    "def validFive ():\n",
    "    x = float(input(\"Escribe un número: \"))\n",
    "    if x >= -5 and x <= 5:\n",
    "        print(\"Tu número está dentro del rango\")\n",
    "    else:\n",
    "        print(\"Tu número no está dentro del rango\")\n",
    "validFive()"
   ]
  },
  {
   "cell_type": "code",
   "execution_count": 6,
   "metadata": {},
   "outputs": [
    {
     "name": "stdout",
     "output_type": "stream",
     "text": [
      "Escribe la coordenada en x: .01\n",
      "Escribe la coordenada en y: 2\n",
      "Tu punto está en el primer cuadrante\n"
     ]
    }
   ],
   "source": [
    "def cuadrante():\n",
    "    x = float(input(\"Escribe la coordenada en x: \"))\n",
    "    y = float(input(\"Escribe la coordenada en y: \"))\n",
    "    if x > 0 and y > 0:\n",
    "        print(\"Tu punto está en el primer cuadrante\")\n",
    "    elif x < 0 and y > 0:\n",
    "        print(\"Tu punto está en el segundo cuadrante\")\n",
    "    elif x < 0 and y < 0:\n",
    "        print(\"Tu punto está en el tercer cuadrante\")\n",
    "    elif x > 0 and y < 0:\n",
    "        print(\"Tu punto está en el cuarto cuadrante\")\n",
    "    else:\n",
    "        print(\"Tu punto está sobre alguno de los ejes\")\n",
    "cuadrante()"
   ]
  },
  {
   "cell_type": "code",
   "execution_count": 47,
   "metadata": {},
   "outputs": [
    {
     "name": "stdout",
     "output_type": "stream",
     "text": [
      "Escribe el dividendo: 5\n",
      "Escribe el divisor: 3\n",
      "El cociente de la división de 5.0 entre 3.0 es 1.0\n",
      "con un resto de 2.0\n"
     ]
    }
   ],
   "source": [
    "def div():\n",
    "    dvdn = float(input(\"Escribe el dividendo: \"))\n",
    "    dvsr = float(input(\"Escribe el divisor: \"))\n",
    "    cocnt = dvdn // dvsr\n",
    "    rsto = dvdn % dvsr\n",
    "    print(\"El cociente de la división de \" + str(dvdn) +\" entre \" + str(dvsr) + \" es \" + str(cocnt))\n",
    "    print(\"con un resto de \" + str(rsto))\n",
    "div()"
   ]
  },
  {
   "cell_type": "code",
   "execution_count": 32,
   "metadata": {},
   "outputs": [
    {
     "name": "stdout",
     "output_type": "stream",
     "text": [
      "Escribe el número que quieres evaluar: 25\n",
      "El 25.0 es un cuadrado perfecto\n"
     ]
    }
   ],
   "source": [
    "def validCuad():\n",
    "    num = float(input(\"Escribe el número que quieres evaluar: \"))\n",
    "    if (math.sqrt(num) - math.floor(math.sqrt(num))) <= 1e-05:\n",
    "        print(\"El \" + str(num) + \" es un cuadrado perfecto\")\n",
    "    else:\n",
    "        print(\"El \" + str(num) + \" no es un cuadrado perfecto\")\n",
    "validCuad()"
   ]
  },
  {
   "cell_type": "code",
   "execution_count": 45,
   "metadata": {},
   "outputs": [
    {
     "name": "stdout",
     "output_type": "stream",
     "text": [
      "Escribe el año que quieras evaluar: 2100\n",
      "Tu año no es bisiesto\n"
     ]
    }
   ],
   "source": [
    "def validBis():\n",
    "    fecha = int(input(\"Escribe el año que quieras evaluar: \"))\n",
    "    if (math.fmod(fecha,4) == 0 and  math.fmod(fecha,100) != 0) or (math.fmod(fecha,4) == 0 and  math.fmod(fecha,400) == 0):\n",
    "        print(\"Tu año es bisiesto\")\n",
    "    else:\n",
    "        print(\"Tu año no es bisiesto\")\n",
    "validBis()"
   ]
  },
  {
   "cell_type": "code",
   "execution_count": 73,
   "metadata": {},
   "outputs": [
    {
     "name": "stdout",
     "output_type": "stream",
     "text": [
      "Escribe la coordenada dada en letra: A\n",
      "Escribe la coordenada dada en múmero: 3\n",
      "Tu casilla es NEGRA\n"
     ]
    }
   ],
   "source": [
    "#Este ejercicio lo hice a partir de dos funciones\n",
    "def validPar(x):\n",
    "    if x % 2 == 0:\n",
    "        par = True\n",
    "    else:\n",
    "        par = False\n",
    "    return par\n",
    "def ajedrezBoN():\n",
    "    letra = input(\"Escribe la coordenada dada en letra: \")\n",
    "    num = int(input(\"Escribe la coordenada dada en múmero: \"))\n",
    "    if (letra == 'A' or letra == 'a' or letra == 'C' or letra == 'c' or letra == 'E' or letra == 'e' or letra == 'G' or letra == 'g') and num <= 8:\n",
    "        if validPar(x=num) == True:\n",
    "            print(\"Tu casilla es BLANCA\")\n",
    "        else:\n",
    "            print(\"Tu casilla es NEGRA\")\n",
    "    elif (letra == 'B' or letra == 'b' or letra == 'D' or letra == 'd' or letra == 'F' or letra == 'f' or letra == 'H' or letra == 'h') and num <= 8:\n",
    "        if validPar(x=num) == False:\n",
    "            print(\"Tu casilla es BLANCA\")\n",
    "        else:\n",
    "            print(\"Tu casilla es NEGRA\")\n",
    "    else:\n",
    "        print(\"Lo escrito no pertenece a un tablero convencional de ajedrez\")\n",
    "ajedrezBoN()"
   ]
  },
  {
   "cell_type": "code",
   "execution_count": 76,
   "metadata": {},
   "outputs": [
    {
     "name": "stdout",
     "output_type": "stream",
     "text": [
      "Escribe el dividendo:5\n",
      "Escribe el divisor :3\n",
      "El cociente es:  1.667\n",
      "El resto es:  2\n"
     ]
    }
   ],
   "source": [
    "x=int(input(\"Escribe el dividendo:\"))\n",
    "\n",
    "y=int(input(\"Escribe el divisor :\"))\n",
    "\n",
    "a=x/y\n",
    "\n",
    "print(\"El cociente es: \",round(a,3))\n",
    "\n",
    "b=x%y\n",
    "\n",
    "print(\"El resto es: \",b)"
   ]
  },
  {
   "cell_type": "code",
   "execution_count": null,
   "metadata": {},
   "outputs": [],
   "source": []
  }
 ],
 "metadata": {
  "kernelspec": {
   "display_name": "Python 3",
   "language": "python",
   "name": "python3"
  },
  "language_info": {
   "codemirror_mode": {
    "name": "ipython",
    "version": 3
   },
   "file_extension": ".py",
   "mimetype": "text/x-python",
   "name": "python",
   "nbconvert_exporter": "python",
   "pygments_lexer": "ipython3",
   "version": "3.8.5"
  }
 },
 "nbformat": 4,
 "nbformat_minor": 5
}
